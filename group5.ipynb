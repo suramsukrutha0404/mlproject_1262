{
  "nbformat": 4,
  "nbformat_minor": 0,
  "metadata": {
    "colab": {
      "provenance": []
    },
    "kernelspec": {
      "name": "python3",
      "display_name": "Python 3"
    },
    "language_info": {
      "name": "python"
    }
  },
  "cells": [
    {
      "cell_type": "code",
      "execution_count": null,
      "metadata": {
        "colab": {
          "base_uri": "https://localhost:8080/",
          "height": 751
        },
        "id": "xT9ZEZxH9Ctz",
        "outputId": "f7f522c1-76ef-489f-e48c-9008e39916d2"
      },
      "outputs": [
        {
          "output_type": "stream",
          "name": "stdout",
          "text": [
            "        Direction  Year        Date    Weekday Country Commodity  \\\n",
            "0         Exports  2015  01/01/2015   Thursday     All       All   \n",
            "1         Exports  2015  02/01/2015     Friday     All       All   \n",
            "2         Exports  2015  03/01/2015   Saturday     All       All   \n",
            "3         Exports  2015  04/01/2015     Sunday     All       All   \n",
            "4         Exports  2015  05/01/2015     Monday     All       All   \n",
            "...           ...   ...         ...        ...     ...       ...   \n",
            "111433  Reimports  2021  11/12/2021   Saturday     All       All   \n",
            "111434  Reimports  2021  12/12/2021     Sunday     All       All   \n",
            "111435  Reimports  2021  13/12/2021     Monday     All       All   \n",
            "111436  Reimports  2021  14/12/2021    Tuesday     All       All   \n",
            "111437  Reimports  2021  15/12/2021  Wednesday     All       All   \n",
            "\n",
            "       Transport_Mode Measure      Value  Cumulative  \n",
            "0                 All       $  104000000   104000000  \n",
            "1                 All       $   96000000   200000000  \n",
            "2                 All       $   61000000   262000000  \n",
            "3                 All       $   74000000   336000000  \n",
            "4                 All       $  105000000   442000000  \n",
            "...               ...     ...        ...         ...  \n",
            "111433            All       $          0   165000000  \n",
            "111434            All       $          0   165000000  \n",
            "111435            All       $    2000000   166000000  \n",
            "111436            All       $    1000000   167000000  \n",
            "111437            All       $    1000000   168000000  \n",
            "\n",
            "[111438 rows x 10 columns]\n"
          ]
        },
        {
          "output_type": "execute_result",
          "data": {
            "text/plain": [
              "[<matplotlib.lines.Line2D at 0x7f76a631c350>]"
            ]
          },
          "metadata": {},
          "execution_count": 2
        },
        {
          "output_type": "display_data",
          "data": {
            "text/plain": [
              "<Figure size 432x288 with 1 Axes>"
            ],
            "image/png": "[encoded data removed]"
          },
          "metadata": {
            "needs_background": "light"
          }
        }
      ],
      "source": [
        "import pandas as pd\n",
        "import matplotlib.pyplot as pt\n",
        "d=pd.read_csv('/content/effects-of-covid-19-on-trade-at-15-december-2021-provisional.csv')\n",
        "print(d)\n",
        "x=d['Year']\n",
        "y=d['Date']\n",
        "pt.plot(x,y)"
      ]
    },
    {
      "cell_type": "code",
      "source": [
        "import numpy as np\n",
        "import pandas as pd\n",
        "import seaborn as sns\n",
        "import matplotlib.pyplot as plt\n",
        "from sklearn import preprocessing, svm\n",
        "from sklearn.model_selection import train_test_split\n",
        "from sklearn.linear_model import LinearRegression\n"
      ],
      "metadata": {
        "id": "P57UbfDDQrEe"
      },
      "execution_count": null,
      "outputs": []
    },
    {
      "cell_type": "code",
      "source": [
        "df = pd.read_csv('/content/effects-of-covid-19-on-trade-at-15-december-2021-provisional.csv')\n",
        "df_binary = df[['Value','Cumulative']]\n",
        "  \n",
        "# Taking only the selected two attributes from the dataset\n",
        "df_binary.columns = ['Value','Cumulative']\n",
        "  \n",
        "# Renaming the columns for easier writing of the code\n",
        "df_binary.head()"
      ],
      "metadata": {
        "colab": {
          "base_uri": "https://localhost:8080/",
          "height": 206
        },
        "id": "1PJDVUfZTLUk",
        "outputId": "247ae895-7470-4666-e253-a28d58748a28"
      },
      "execution_count": null,
      "outputs": [
        {
          "output_type": "execute_result",
          "data": {
            "text/plain": [
              "       Value   Cumulative\n",
              "0  104000000  104000000.0\n",
              "1   96000000  200000000.0\n",
              "2   61000000  262000000.0\n",
              "3   74000000  336000000.0\n",
              "4  105000000  442000000.0"
            ],
            "text/html": [
              "\n",
              "  <div id=\"df-658fca55-2ad8-4e5b-be34-aebf25812d61\">\n",
              "    <div class=\"colab-df-container\">\n",
              "      <div>\n",
              "<style scoped>\n",
              "    .dataframe tbody tr th:only-of-type {\n",
              "        vertical-align: middle;\n",
              "    }\n",
              "\n",
              "    .dataframe tbody tr th {\n",
              "        vertical-align: top;\n",
              "    }\n",
              "\n",
              "    .dataframe thead th {\n",
              "        text-align: right;\n",
              "    }\n",
              "</style>\n",
              "<table border=\"1\" class=\"dataframe\">\n",
              "  <thead>\n",
              "    <tr style=\"text-align: right;\">\n",
              "      <th></th>\n",
              "      <th>Value</th>\n",
              "      <th>Cumulative</th>\n",
              "    </tr>\n",
              "  </thead>\n",
              "  <tbody>\n",
              "    <tr>\n",
              "      <th>0</th>\n",
              "      <td>104000000</td>\n",
              "      <td>104000000.0</td>\n",
              "    </tr>\n",
              "    <tr>\n",
              "      <th>1</th>\n",
              "      <td>96000000</td>\n",
              "      <td>200000000.0</td>\n",
              "    </tr>\n",
              "    <tr>\n",
              "      <th>2</th>\n",
              "      <td>61000000</td>\n",
              "      <td>262000000.0</td>\n",
              "    </tr>\n",
              "    <tr>\n",
              "      <th>3</th>\n",
              "      <td>74000000</td>\n",
              "      <td>336000000.0</td>\n",
              "    </tr>\n",
              "    <tr>\n",
              "      <th>4</th>\n",
              "      <td>105000000</td>\n",
              "      <td>442000000.0</td>\n",
              "    </tr>\n",
              "  </tbody>\n",
              "</table>\n",
              "</div>\n",
              "      <button class=\"colab-df-convert\" onclick=\"convertToInteractive('df-658fca55-2ad8-4e5b-be34-aebf25812d61')\"\n",
              "              title=\"Convert this dataframe to an interactive table.\"\n",
              "              style=\"display:none;\">\n",
              "        \n",
              "  <svg xmlns=\"http://www.w3.org/2000/svg\" height=\"24px\"viewBox=\"0 0 24 24\"\n",
              "       width=\"24px\">\n",
              "    <path d=\"M0 0h24v24H0V0z\" fill=\"none\"/>\n",
              "    <path d=\"M18.56 5.44l.94 2.06.94-2.06 2.06-.94-2.06-.94-.94-2.06-.94 2.06-2.06.94zm-11 1L8.5 8.5l.94-2.06 2.06-.94-2.06-.94L8.5 2.5l-.94 2.06-2.06.94zm10 10l.94 2.06.94-2.06 2.06-.94-2.06-.94-.94-2.06-.94 2.06-2.06.94z\"/><path d=\"M17.41 7.96l-1.37-1.37c-.4-.4-.92-.59-1.43-.59-.52 0-1.04.2-1.43.59L10.3 9.45l-7.72 7.72c-.78.78-.78 2.05 0 2.83L4 21.41c.39.39.9.59 1.41.59.51 0 1.02-.2 1.41-.59l7.78-7.78 2.81-2.81c.8-.78.8-2.07 0-2.86zM5.41 20L4 18.59l7.72-7.72 1.47 1.35L5.41 20z\"/>\n",
              "  </svg>\n",
              "      </button>\n",
              "      \n",
              "  <style>\n",
              "    .colab-df-container {\n",
              "      display:flex;\n",
              "      flex-wrap:wrap;\n",
              "      gap: 12px;\n",
              "    }\n",
              "\n",
              "    .colab-df-convert {\n",
              "      background-color: #E8F0FE;\n",
              "      border: none;\n",
              "      border-radius: 50%;\n",
              "      cursor: pointer;\n",
              "      display: none;\n",
              "      fill: #1967D2;\n",
              "      height: 32px;\n",
              "      padding: 0 0 0 0;\n",
              "      width: 32px;\n",
              "    }\n",
              "\n",
              "    .colab-df-convert:hover {\n",
              "      background-color: #E2EBFA;\n",
              "      box-shadow: 0px 1px 2px rgba(60, 64, 67, 0.3), 0px 1px 3px 1px rgba(60, 64, 67, 0.15);\n",
              "      fill: #174EA6;\n",
              "    }\n",
              "\n",
              "    [theme=dark] .colab-df-convert {\n",
              "      background-color: #3B4455;\n",
              "      fill: #D2E3FC;\n",
              "    }\n",
              "\n",
              "    [theme=dark] .colab-df-convert:hover {\n",
              "      background-color: #434B5C;\n",
              "      box-shadow: 0px 1px 3px 1px rgba(0, 0, 0, 0.15);\n",
              "      filter: drop-shadow(0px 1px 2px rgba(0, 0, 0, 0.3));\n",
              "      fill: #FFFFFF;\n",
              "    }\n",
              "  </style>\n",
              "\n",
              "      <script>\n",
              "        const buttonEl =\n",
              "          document.querySelector('#df-658fca55-2ad8-4e5b-be34-aebf25812d61 button.colab-df-convert');\n",
              "        buttonEl.style.display =\n",
              "          google.colab.kernel.accessAllowed ? 'block' : 'none';\n",
              "\n",
              "        async function convertToInteractive(key) {\n",
              "          const element = document.querySelector('#df-658fca55-2ad8-4e5b-be34-aebf25812d61');\n",
              "          const dataTable =\n",
              "            await google.colab.kernel.invokeFunction('convertToInteractive',\n",
              "                                                     [key], {});\n",
              "          if (!dataTable) return;\n",
              "\n",
              "          const docLinkHtml = 'Like what you see? Visit the ' +\n",
              "            '<a target=\"_blank\" href=https://colab.research.google.com/notebooks/data_table.ipynb>data table notebook</a>'\n",
              "            + ' to learn more about interactive tables.';\n",
              "          element.innerHTML = '';\n",
              "          dataTable['output_type'] = 'display_data';\n",
              "          await google.colab.output.renderOutput(dataTable, element);\n",
              "          const docLink = document.createElement('div');\n",
              "          docLink.innerHTML = docLinkHtml;\n",
              "          element.appendChild(docLink);\n",
              "        }\n",
              "      </script>\n",
              "    </div>\n",
              "  </div>\n",
              "  "
            ]
          },
          "metadata": {},
          "execution_count": 7
        }
      ]
    },
    {
      "cell_type": "code",
      "source": [
        "sns.lmplot(x =\"Value\", y =\"Cumulative\", data = df_binary, order = 2, ci = None)"
      ],
      "metadata": {
        "colab": {
          "base_uri": "https://localhost:8080/",
          "height": 386
        },
        "id": "zelHP03vT8g0",
        "outputId": "43d37f23-c864-47d8-b0af-2c1fb4d058e5"
      },
      "execution_count": null,
      "outputs": [
        {
          "output_type": "execute_result",
          "data": {
            "text/plain": [
              "<seaborn.axisgrid.FacetGrid at 0x7fb672e98250>"
            ]
          },
          "metadata": {},
          "execution_count": 8
        },
        {
          "output_type": "display_data",
          "data": {
            "text/plain": [
              "<Figure size 360x360 with 1 Axes>"
            ],
            "image/png": "[encoded data removed]"
          },
          "metadata": {
            "needs_background": "light"
          }
        }
      ]
    },
    {
      "cell_type": "code",
      "source": [
        "df_binary.fillna(method ='ffill', inplace = True)"
      ],
      "metadata": {
        "colab": {
          "base_uri": "https://localhost:8080/"
        },
        "id": "yjabL64WU114",
        "outputId": "d7e68ba6-df77-40a6-8d01-47bf15dc74f4"
      },
      "execution_count": null,
      "outputs": [
        {
          "output_type": "stream",
          "name": "stderr",
          "text": [
            "/usr/local/lib/python3.7/dist-packages/pandas/core/frame.py:5182: SettingWithCopyWarning: \n",
            "A value is trying to be set on a copy of a slice from a DataFrame\n",
            "\n",
            "See the caveats in the documentation: https://pandas.pydata.org/pandas-docs/stable/user_guide/indexing.html#returning-a-view-versus-a-copy\n",
            "  downcast=downcast,\n"
          ]
        }
      ]
    },
    {
      "cell_type": "code",
      "source": [
        "X = np.array(df_binary['Value']).reshape(-1, 1)\n",
        "y = np.array(df_binary['Cumulative']).reshape(-1, 1)\n",
        "  "
      ],
      "metadata": {
        "id": "URPrDdfuVGQG"
      },
      "execution_count": null,
      "outputs": []
    },
    {
      "cell_type": "code",
      "source": [
        "df_binary.dropna(inplace = True)"
      ],
      "metadata": {
        "colab": {
          "base_uri": "https://localhost:8080/"
        },
        "id": "UfxvETi4Vzcs",
        "outputId": "ef61f54e-6946-46ab-8809-9c69bc25fc88"
      },
      "execution_count": null,
      "outputs": [
        {
          "output_type": "stream",
          "name": "stderr",
          "text": [
            "/usr/local/lib/python3.7/dist-packages/pandas/util/_decorators.py:311: SettingWithCopyWarning: \n",
            "A value is trying to be set on a copy of a slice from a DataFrame\n",
            "\n",
            "See the caveats in the documentation: https://pandas.pydata.org/pandas-docs/stable/user_guide/indexing.html#returning-a-view-versus-a-copy\n",
            "  return func(*args, **kwargs)\n"
          ]
        }
      ]
    },
    {
      "cell_type": "code",
      "source": [],
      "metadata": {
        "id": "EppcELX6Z3iM"
      },
      "execution_count": null,
      "outputs": []
    },
    {
      "cell_type": "code",
      "source": [
        "X_train, X_test, y_train, y_test = train_test_split(X, y, test_size = 0.66)"
      ],
      "metadata": {
        "id": "SUqnIk9vV9sh"
      },
      "execution_count": null,
      "outputs": []
    },
    {
      "cell_type": "code",
      "source": [
        "regr = LinearRegression()\n",
        "  \n",
        "regr.fit(X_train, y_train)\n",
        "print(regr.score(X_test, y_test))"
      ],
      "metadata": {
        "colab": {
          "base_uri": "https://localhost:8080/"
        },
        "id": "L2S1wbZlWGPg",
        "outputId": "7d43fadb-e3c7-4ab0-d3c5-bcbb066c7e24"
      },
      "execution_count": null,
      "outputs": [
        {
          "output_type": "stream",
          "name": "stdout",
          "text": [
            "0.5143392797367698\n"
          ]
        }
      ]
    },
    {
      "cell_type": "code",
      "source": [
        "df = pd.read_csv('/content/effects-of-covid-19-on-trade-at-15-december-2021-provisional.csv')\n",
        "\n",
        "\n",
        "df.head()"
      ],
      "metadata": {
        "colab": {
          "base_uri": "https://localhost:8080/",
          "height": 206
        },
        "id": "MeiCOk4NElst",
        "outputId": "ba608cd9-56df-487b-d3a6-025b98e12323"
      },
      "execution_count": null,
      "outputs": [
        {
          "output_type": "execute_result",
          "data": {
            "text/plain": [
              "  Direction  Year        Date   Weekday Country Commodity Transport_Mode  \\\n",
              "0   Exports  2015  01/01/2015  Thursday     All       All            All   \n",
              "1   Exports  2015  02/01/2015    Friday     All       All            All   \n",
              "2   Exports  2015  03/01/2015  Saturday     All       All            All   \n",
              "3   Exports  2015  04/01/2015    Sunday     All       All            All   \n",
              "4   Exports  2015  05/01/2015    Monday     All       All            All   \n",
              "\n",
              "  Measure      Value  Cumulative  \n",
              "0       $  104000000   104000000  \n",
              "1       $   96000000   200000000  \n",
              "2       $   61000000   262000000  \n",
              "3       $   74000000   336000000  \n",
              "4       $  105000000   442000000  "
            ],
            "text/html": [
              "\n",
              "  <div id=\"df-5e659380-7799-4725-9bec-ad0c6479fea5\">\n",
              "    <div class=\"colab-df-container\">\n",
              "      <div>\n",
              "<style scoped>\n",
              "    .dataframe tbody tr th:only-of-type {\n",
              "        vertical-align: middle;\n",
              "    }\n",
              "\n",
              "    .dataframe tbody tr th {\n",
              "        vertical-align: top;\n",
              "    }\n",
              "\n",
              "    .dataframe thead th {\n",
              "        text-align: right;\n",
              "    }\n",
              "</style>\n",
              "<table border=\"1\" class=\"dataframe\">\n",
              "  <thead>\n",
              "    <tr style=\"text-align: right;\">\n",
              "      <th></th>\n",
              "      <th>Direction</th>\n",
              "      <th>Year</th>\n",
              "      <th>Date</th>\n",
              "      <th>Weekday</th>\n",
              "      <th>Country</th>\n",
              "      <th>Commodity</th>\n",
              "      <th>Transport_Mode</th>\n",
              "      <th>Measure</th>\n",
              "      <th>Value</th>\n",
              "      <th>Cumulative</th>\n",
              "    </tr>\n",
              "  </thead>\n",
              "  <tbody>\n",
              "    <tr>\n",
              "      <th>0</th>\n",
              "      <td>Exports</td>\n",
              "      <td>2015</td>\n",
              "      <td>01/01/2015</td>\n",
              "      <td>Thursday</td>\n",
              "      <td>All</td>\n",
              "      <td>All</td>\n",
              "      <td>All</td>\n",
              "      <td>$</td>\n",
              "      <td>104000000</td>\n",
              "      <td>104000000</td>\n",
              "    </tr>\n",
              "    <tr>\n",
              "      <th>1</th>\n",
              "      <td>Exports</td>\n",
              "      <td>2015</td>\n",
              "      <td>02/01/2015</td>\n",
              "      <td>Friday</td>\n",
              "      <td>All</td>\n",
              "      <td>All</td>\n",
              "      <td>All</td>\n",
              "      <td>$</td>\n",
              "      <td>96000000</td>\n",
              "      <td>200000000</td>\n",
              "    </tr>\n",
              "    <tr>\n",
              "      <th>2</th>\n",
              "      <td>Exports</td>\n",
              "      <td>2015</td>\n",
              "      <td>03/01/2015</td>\n",
              "      <td>Saturday</td>\n",
              "      <td>All</td>\n",
              "      <td>All</td>\n",
              "      <td>All</td>\n",
              "      <td>$</td>\n",
              "      <td>61000000</td>\n",
              "      <td>262000000</td>\n",
              "    </tr>\n",
              "    <tr>\n",
              "      <th>3</th>\n",
              "      <td>Exports</td>\n",
              "      <td>2015</td>\n",
              "      <td>04/01/2015</td>\n",
              "      <td>Sunday</td>\n",
              "      <td>All</td>\n",
              "      <td>All</td>\n",
              "      <td>All</td>\n",
              "      <td>$</td>\n",
              "      <td>74000000</td>\n",
              "      <td>336000000</td>\n",
              "    </tr>\n",
              "    <tr>\n",
              "      <th>4</th>\n",
              "      <td>Exports</td>\n",
              "      <td>2015</td>\n",
              "      <td>05/01/2015</td>\n",
              "      <td>Monday</td>\n",
              "      <td>All</td>\n",
              "      <td>All</td>\n",
              "      <td>All</td>\n",
              "      <td>$</td>\n",
              "      <td>105000000</td>\n",
              "      <td>442000000</td>\n",
              "    </tr>\n",
              "  </tbody>\n",
              "</table>\n",
              "</div>\n",
              "      <button class=\"colab-df-convert\" onclick=\"convertToInteractive('df-5e659380-7799-4725-9bec-ad0c6479fea5')\"\n",
              "              title=\"Convert this dataframe to an interactive table.\"\n",
              "              style=\"display:none;\">\n",
              "        \n",
              "  <svg xmlns=\"http://www.w3.org/2000/svg\" height=\"24px\"viewBox=\"0 0 24 24\"\n",
              "       width=\"24px\">\n",
              "    <path d=\"M0 0h24v24H0V0z\" fill=\"none\"/>\n",
              "    <path d=\"M18.56 5.44l.94 2.06.94-2.06 2.06-.94-2.06-.94-.94-2.06-.94 2.06-2.06.94zm-11 1L8.5 8.5l.94-2.06 2.06-.94-2.06-.94L8.5 2.5l-.94 2.06-2.06.94zm10 10l.94 2.06.94-2.06 2.06-.94-2.06-.94-.94-2.06-.94 2.06-2.06.94z\"/><path d=\"M17.41 7.96l-1.37-1.37c-.4-.4-.92-.59-1.43-.59-.52 0-1.04.2-1.43.59L10.3 9.45l-7.72 7.72c-.78.78-.78 2.05 0 2.83L4 21.41c.39.39.9.59 1.41.59.51 0 1.02-.2 1.41-.59l7.78-7.78 2.81-2.81c.8-.78.8-2.07 0-2.86zM5.41 20L4 18.59l7.72-7.72 1.47 1.35L5.41 20z\"/>\n",
              "  </svg>\n",
              "      </button>\n",
              "      \n",
              "  <style>\n",
              "    .colab-df-container {\n",
              "      display:flex;\n",
              "      flex-wrap:wrap;\n",
              "      gap: 12px;\n",
              "    }\n",
              "\n",
              "    .colab-df-convert {\n",
              "      background-color: #E8F0FE;\n",
              "      border: none;\n",
              "      border-radius: 50%;\n",
              "      cursor: pointer;\n",
              "      display: none;\n",
              "      fill: #1967D2;\n",
              "      height: 32px;\n",
              "      padding: 0 0 0 0;\n",
              "      width: 32px;\n",
              "    }\n",
              "\n",
              "    .colab-df-convert:hover {\n",
              "      background-color: #E2EBFA;\n",
              "      box-shadow: 0px 1px 2px rgba(60, 64, 67, 0.3), 0px 1px 3px 1px rgba(60, 64, 67, 0.15);\n",
              "      fill: #174EA6;\n",
              "    }\n",
              "\n",
              "    [theme=dark] .colab-df-convert {\n",
              "      background-color: #3B4455;\n",
              "      fill: #D2E3FC;\n",
              "    }\n",
              "\n",
              "    [theme=dark] .colab-df-convert:hover {\n",
              "      background-color: #434B5C;\n",
              "      box-shadow: 0px 1px 3px 1px rgba(0, 0, 0, 0.15);\n",
              "      filter: drop-shadow(0px 1px 2px rgba(0, 0, 0, 0.3));\n",
              "      fill: #FFFFFF;\n",
              "    }\n",
              "  </style>\n",
              "\n",
              "      <script>\n",
              "        const buttonEl =\n",
              "          document.querySelector('#df-5e659380-7799-4725-9bec-ad0c6479fea5 button.colab-df-convert');\n",
              "        buttonEl.style.display =\n",
              "          google.colab.kernel.accessAllowed ? 'block' : 'none';\n",
              "\n",
              "        async function convertToInteractive(key) {\n",
              "          const element = document.querySelector('#df-5e659380-7799-4725-9bec-ad0c6479fea5');\n",
              "          const dataTable =\n",
              "            await google.colab.kernel.invokeFunction('convertToInteractive',\n",
              "                                                     [key], {});\n",
              "          if (!dataTable) return;\n",
              "\n",
              "          const docLinkHtml = 'Like what you see? Visit the ' +\n",
              "            '<a target=\"_blank\" href=https://colab.research.google.com/notebooks/data_table.ipynb>data table notebook</a>'\n",
              "            + ' to learn more about interactive tables.';\n",
              "          element.innerHTML = '';\n",
              "          dataTable['output_type'] = 'display_data';\n",
              "          await google.colab.output.renderOutput(dataTable, element);\n",
              "          const docLink = document.createElement('div');\n",
              "          docLink.innerHTML = docLinkHtml;\n",
              "          element.appendChild(docLink);\n",
              "        }\n",
              "      </script>\n",
              "    </div>\n",
              "  </div>\n",
              "  "
            ]
          },
          "metadata": {},
          "execution_count": 3
        }
      ]
    },
    {
      "cell_type": "code",
      "source": [
        "ee=[]\n",
        "import numpy as np\n",
        "mm=[]\n",
        "cc=[]\n",
        "def liner(m1,c):\n",
        "  ye=[]\n",
        "  yp=[]\n",
        "  sum=0\n",
        "  mm.append(m1)\n",
        "  cc.append(c)\n",
        "  for i in range(0,len(x1)):\n",
        "    yp.append(m1*x1[i]+c)\n",
        "    ye.append((y[i]-yp[i])**2)\n",
        "  #print(ye)\n",
        "  for i in range(0,len(x1)):\n",
        "    sum=sum+ye[i]\n",
        "  ee1=np.mod(sum,len(x1))\n",
        "  print(ee1)\n",
        "  ee.append(ee1)\n",
        "  #print(ee1)"
      ],
      "metadata": {
        "colab": {
          "base_uri": "https://localhost:8080/",
          "height": 130
        },
        "id": "KZyH2H-eGNjX",
        "outputId": "26145557-7bf5-4660-c494-bc4c6e5175b8"
      },
      "execution_count": null,
      "outputs": [
        {
          "output_type": "error",
          "ename": "SyntaxError",
          "evalue": "ignored",
          "traceback": [
            "\u001b[0;36m  File \u001b[0;32m\"<ipython-input-6-85f44fab871f>\"\u001b[0;36m, line \u001b[0;32m2\u001b[0m\n\u001b[0;31m    import numpy as np\u001b[0m\n\u001b[0m                     ^\u001b[0m\n\u001b[0;31mSyntaxError\u001b[0m\u001b[0;31m:\u001b[0m invalid character in identifier\n"
          ]
        }
      ]
    },
    {
      "cell_type": "code",
      "source": [
        "import pandas\n",
        "from sklearn import linear_model\n",
        "d=pandas.read_csv('/content/effects-of-covid-19-on-trade-at-15-december-2021-provisional.csv')\n",
        "print(d)\n",
        "x=d[['Value']] \n",
        "y=d['Cumulative']\n",
        "regr=linear_model.LinearRegression()\n",
        "regr.fit(x,y)\n",
        "date=regr.predict[[1100.0,1000.0]]\n",
        "print(Cumulative)"
      ],
      "metadata": {
        "colab": {
          "base_uri": "https://localhost:8080/",
          "height": 686
        },
        "id": "qPnZ4gCJKerp",
        "outputId": "bd956b4c-5150-49d7-89d0-f4a998b8e9b1"
      },
      "execution_count": null,
      "outputs": [
        {
          "output_type": "stream",
          "name": "stdout",
          "text": [
            "      Direction  Year        Date    Weekday Country              Commodity  \\\n",
            "0       Exports  2015  01/01/2015   Thursday     All                    All   \n",
            "1       Exports  2015  02/01/2015     Friday     All                    All   \n",
            "2       Exports  2015  03/01/2015   Saturday     All                    All   \n",
            "3       Exports  2015  04/01/2015     Sunday     All                    All   \n",
            "4       Exports  2015  05/01/2015     Monday     All                    All   \n",
            "...         ...   ...         ...        ...     ...                    ...   \n",
            "24715   Exports  2016  23/11/2016  Wednesday     All  Meat and edible offal   \n",
            "24716   Exports  2016  24/11/2016   Thursday     All  Meat and edible offal   \n",
            "24717   Exports  2016  25/11/2016     Friday     All  Meat and edible offal   \n",
            "24718   Exports  2016  26/11/2016   Saturday     All  Meat and edible offal   \n",
            "24719   Exports  2016  27/11/2016     Sunday     All  Meat and edible offal   \n",
            "\n",
            "      Transport_Mode Measure      Value  Cumulative  \n",
            "0                All       $  104000000   104000000  \n",
            "1                All       $   96000000   200000000  \n",
            "2                All       $   61000000   262000000  \n",
            "3                All       $   74000000   336000000  \n",
            "4                All       $  105000000   442000000  \n",
            "...              ...     ...        ...         ...  \n",
            "24715            All  Tonnes       1000      817000  \n",
            "24716            All  Tonnes       2000      819000  \n",
            "24717            All  Tonnes       2000      822000  \n",
            "24718            All  Tonnes       2000      824000  \n",
            "24719            All  Tonnes       3000      827000  \n",
            "\n",
            "[24720 rows x 10 columns]\n"
          ]
        },
        {
          "output_type": "error",
          "ename": "TypeError",
          "evalue": "ignored",
          "traceback": [
            "\u001b[0;31m---------------------------------------------------------------------------\u001b[0m",
            "\u001b[0;31mTypeError\u001b[0m                                 Traceback (most recent call last)",
            "\u001b[0;32m<ipython-input-26-c0953a7cc73b>\u001b[0m in \u001b[0;36m<module>\u001b[0;34m()\u001b[0m\n\u001b[1;32m      7\u001b[0m \u001b[0mregr\u001b[0m\u001b[0;34m=\u001b[0m\u001b[0mlinear_model\u001b[0m\u001b[0;34m.\u001b[0m\u001b[0mLinearRegression\u001b[0m\u001b[0;34m(\u001b[0m\u001b[0;34m)\u001b[0m\u001b[0;34m\u001b[0m\u001b[0;34m\u001b[0m\u001b[0m\n\u001b[1;32m      8\u001b[0m \u001b[0mregr\u001b[0m\u001b[0;34m.\u001b[0m\u001b[0mfit\u001b[0m\u001b[0;34m(\u001b[0m\u001b[0mx\u001b[0m\u001b[0;34m,\u001b[0m\u001b[0my\u001b[0m\u001b[0;34m)\u001b[0m\u001b[0;34m\u001b[0m\u001b[0;34m\u001b[0m\u001b[0m\n\u001b[0;32m----> 9\u001b[0;31m \u001b[0mdate\u001b[0m\u001b[0;34m=\u001b[0m\u001b[0mregr\u001b[0m\u001b[0;34m.\u001b[0m\u001b[0mpredict\u001b[0m\u001b[0;34m[\u001b[0m\u001b[0;34m[\u001b[0m\u001b[0;36m1100.0\u001b[0m\u001b[0;34m,\u001b[0m\u001b[0;36m1000.0\u001b[0m\u001b[0;34m]\u001b[0m\u001b[0;34m]\u001b[0m\u001b[0;34m\u001b[0m\u001b[0;34m\u001b[0m\u001b[0m\n\u001b[0m\u001b[1;32m     10\u001b[0m \u001b[0mprint\u001b[0m\u001b[0;34m(\u001b[0m\u001b[0mCumulative\u001b[0m\u001b[0;34m)\u001b[0m\u001b[0;34m\u001b[0m\u001b[0;34m\u001b[0m\u001b[0m\n",
            "\u001b[0;31mTypeError\u001b[0m: 'method' object is not subscriptable"
          ]
        }
      ]
    },
    {
      "cell_type": "code",
      "source": [
        "import pandas\n",
        "from sklearn import linear_model\n",
        "df=pandas.read_csv('/content/effects-of-covid-19-on-trade-at-15-december-2021-provisional.csv')\n",
        "x=df[[]]\n"
      ],
      "metadata": {
        "id": "DGM53BvkG2Fm"
      },
      "execution_count": null,
      "outputs": []
    },
    {
      "cell_type": "code",
      "source": [
        "import numpy as np \n",
        "import pandas as pd \n",
        "import seaborn as sns \n",
        "import matplotlib.pyplot as plt \n",
        "from sklearn import preprocessing, svm \n",
        "from sklearn.model_selection import train_test_split \n",
        "from sklearn.linear_model import LinearRegression "
      ],
      "metadata": {
        "id": "SZ_zoQAZERME"
      },
      "execution_count": null,
      "outputs": []
    },
    {
      "cell_type": "code",
      "source": [
        "import pandas as pd\n",
        "d=pd.read_csv('/content/effects-of-covid-19-on-trade-at-15-december-2021-provisional.csv')\n",
        "print(d)"
      ],
      "metadata": {
        "colab": {
          "base_uri": "https://localhost:8080/"
        },
        "id": "NRWSKlds0cpB",
        "outputId": "a5cefc1b-9545-4296-91a9-9d2612176386"
      },
      "execution_count": null,
      "outputs": [
        {
          "output_type": "stream",
          "name": "stdout",
          "text": [
            "        Direction  Year        Date    Weekday Country Commodity  \\\n",
            "0         Exports  2015  01/01/2015   Thursday     All       All   \n",
            "1         Exports  2015  02/01/2015     Friday     All       All   \n",
            "2         Exports  2015  03/01/2015   Saturday     All       All   \n",
            "3         Exports  2015  04/01/2015     Sunday     All       All   \n",
            "4         Exports  2015  05/01/2015     Monday     All       All   \n",
            "...           ...   ...         ...        ...     ...       ...   \n",
            "111433  Reimports  2021  11/12/2021   Saturday     All       All   \n",
            "111434  Reimports  2021  12/12/2021     Sunday     All       All   \n",
            "111435  Reimports  2021  13/12/2021     Monday     All       All   \n",
            "111436  Reimports  2021  14/12/2021    Tuesday     All       All   \n",
            "111437  Reimports  2021  15/12/2021  Wednesday     All       All   \n",
            "\n",
            "       Transport_Mode Measure      Value  Cumulative  \n",
            "0                 All       $  104000000   104000000  \n",
            "1                 All       $   96000000   200000000  \n",
            "2                 All       $   61000000   262000000  \n",
            "3                 All       $   74000000   336000000  \n",
            "4                 All       $  105000000   442000000  \n",
            "...               ...     ...        ...         ...  \n",
            "111433            All       $          0   165000000  \n",
            "111434            All       $          0   165000000  \n",
            "111435            All       $    2000000   166000000  \n",
            "111436            All       $    1000000   167000000  \n",
            "111437            All       $    1000000   168000000  \n",
            "\n",
            "[111438 rows x 10 columns]\n"
          ]
        }
      ]
    },
    {
      "cell_type": "code",
      "source": [
        "\n",
        "import matplotlib.pyplot as pt\n",
        "d=pd.read_csv('/content/effects-of-covid-19-on-trade-at-15-december-2021-provisional.csv')\n",
        "print(d)\n",
        "x=d['Year']\n",
        "y=d['Weekday']\n",
        "pt.plot(x,y)"
      ],
      "metadata": {
        "colab": {
          "base_uri": "https://localhost:8080/",
          "height": 751
        },
        "id": "7IwMliiNBz8M",
        "outputId": "6c7ca752-9c07-4aeb-8f0b-7a170d17e4b4"
      },
      "execution_count": null,
      "outputs": [
        {
          "output_type": "stream",
          "name": "stdout",
          "text": [
            "        Direction  Year        Date    Weekday Country Commodity  \\\n",
            "0         Exports  2015  01/01/2015   Thursday     All       All   \n",
            "1         Exports  2015  02/01/2015     Friday     All       All   \n",
            "2         Exports  2015  03/01/2015   Saturday     All       All   \n",
            "3         Exports  2015  04/01/2015     Sunday     All       All   \n",
            "4         Exports  2015  05/01/2015     Monday     All       All   \n",
            "...           ...   ...         ...        ...     ...       ...   \n",
            "111433  Reimports  2021  11/12/2021   Saturday     All       All   \n",
            "111434  Reimports  2021  12/12/2021     Sunday     All       All   \n",
            "111435  Reimports  2021  13/12/2021     Monday     All       All   \n",
            "111436  Reimports  2021  14/12/2021    Tuesday     All       All   \n",
            "111437  Reimports  2021  15/12/2021  Wednesday     All       All   \n",
            "\n",
            "       Transport_Mode Measure      Value  Cumulative  \n",
            "0                 All       $  104000000   104000000  \n",
            "1                 All       $   96000000   200000000  \n",
            "2                 All       $   61000000   262000000  \n",
            "3                 All       $   74000000   336000000  \n",
            "4                 All       $  105000000   442000000  \n",
            "...               ...     ...        ...         ...  \n",
            "111433            All       $          0   165000000  \n",
            "111434            All       $          0   165000000  \n",
            "111435            All       $    2000000   166000000  \n",
            "111436            All       $    1000000   167000000  \n",
            "111437            All       $    1000000   168000000  \n",
            "\n",
            "[111438 rows x 10 columns]\n"
          ]
        },
        {
          "output_type": "execute_result",
          "data": {
            "text/plain": [
              "[<matplotlib.lines.Line2D at 0x7f76a24d2790>]"
            ]
          },
          "metadata": {},
          "execution_count": 4
        },
        {
          "output_type": "display_data",
          "data": {
            "text/plain": [
              "<Figure size 432x288 with 1 Axes>"
            ],
            "image/png": "[encoded data removed]"
          },
          "metadata": {
            "needs_background": "light"
          }
        }
      ]
    },
    {
      "cell_type": "code",
      "source": [
        "import matplotlib.pyplot as pt\n",
        "d=pd.read_csv('/content/effects-of-covid-19-on-trade-at-15-december-2021-provisional.csv')\n",
        "print(d)\n",
        "x=d['Year']\n",
        "y=d['Value']\n",
        "pt.plot(x,y)"
      ],
      "metadata": {
        "colab": {
          "base_uri": "https://localhost:8080/",
          "height": 762
        },
        "id": "csdTE8vEBz_D",
        "outputId": "6f27b42a-82b0-4693-8ece-a2238c0a95b1"
      },
      "execution_count": null,
      "outputs": [
        {
          "output_type": "stream",
          "name": "stdout",
          "text": [
            "        Direction  Year        Date    Weekday Country Commodity  \\\n",
            "0         Exports  2015  01/01/2015   Thursday     All       All   \n",
            "1         Exports  2015  02/01/2015     Friday     All       All   \n",
            "2         Exports  2015  03/01/2015   Saturday     All       All   \n",
            "3         Exports  2015  04/01/2015     Sunday     All       All   \n",
            "4         Exports  2015  05/01/2015     Monday     All       All   \n",
            "...           ...   ...         ...        ...     ...       ...   \n",
            "111433  Reimports  2021  11/12/2021   Saturday     All       All   \n",
            "111434  Reimports  2021  12/12/2021     Sunday     All       All   \n",
            "111435  Reimports  2021  13/12/2021     Monday     All       All   \n",
            "111436  Reimports  2021  14/12/2021    Tuesday     All       All   \n",
            "111437  Reimports  2021  15/12/2021  Wednesday     All       All   \n",
            "\n",
            "       Transport_Mode Measure      Value  Cumulative  \n",
            "0                 All       $  104000000   104000000  \n",
            "1                 All       $   96000000   200000000  \n",
            "2                 All       $   61000000   262000000  \n",
            "3                 All       $   74000000   336000000  \n",
            "4                 All       $  105000000   442000000  \n",
            "...               ...     ...        ...         ...  \n",
            "111433            All       $          0   165000000  \n",
            "111434            All       $          0   165000000  \n",
            "111435            All       $    2000000   166000000  \n",
            "111436            All       $    1000000   167000000  \n",
            "111437            All       $    1000000   168000000  \n",
            "\n",
            "[111438 rows x 10 columns]\n"
          ]
        },
        {
          "output_type": "execute_result",
          "data": {
            "text/plain": [
              "[<matplotlib.lines.Line2D at 0x7f76a2567ed0>]"
            ]
          },
          "metadata": {},
          "execution_count": 5
        },
        {
          "output_type": "display_data",
          "data": {
            "text/plain": [
              "<Figure size 432x288 with 1 Axes>"
            ],
            "image/png": "[encoded data removed]"
          },
          "metadata": {
            "needs_background": "light"
          }
        }
      ]
    },
    {
      "cell_type": "code",
      "source": [
        "import matplotlib.pyplot as pt\n",
        "d=pd.read_csv('/content/effects-of-covid-19-on-trade-at-15-december-2021-provisional.csv')\n",
        "print(d)\n",
        "x=d['Year']\n",
        "y=d['Cumulative']\n",
        "pt.plot(x,y)"
      ],
      "metadata": {
        "colab": {
          "base_uri": "https://localhost:8080/",
          "height": 762
        },
        "id": "sQ-e2KjdB0CD",
        "outputId": "f84c776c-00e8-4ebe-9c2a-cd97ff29b253"
      },
      "execution_count": null,
      "outputs": [
        {
          "output_type": "stream",
          "name": "stdout",
          "text": [
            "        Direction  Year        Date    Weekday Country Commodity  \\\n",
            "0         Exports  2015  01/01/2015   Thursday     All       All   \n",
            "1         Exports  2015  02/01/2015     Friday     All       All   \n",
            "2         Exports  2015  03/01/2015   Saturday     All       All   \n",
            "3         Exports  2015  04/01/2015     Sunday     All       All   \n",
            "4         Exports  2015  05/01/2015     Monday     All       All   \n",
            "...           ...   ...         ...        ...     ...       ...   \n",
            "111433  Reimports  2021  11/12/2021   Saturday     All       All   \n",
            "111434  Reimports  2021  12/12/2021     Sunday     All       All   \n",
            "111435  Reimports  2021  13/12/2021     Monday     All       All   \n",
            "111436  Reimports  2021  14/12/2021    Tuesday     All       All   \n",
            "111437  Reimports  2021  15/12/2021  Wednesday     All       All   \n",
            "\n",
            "       Transport_Mode Measure      Value  Cumulative  \n",
            "0                 All       $  104000000   104000000  \n",
            "1                 All       $   96000000   200000000  \n",
            "2                 All       $   61000000   262000000  \n",
            "3                 All       $   74000000   336000000  \n",
            "4                 All       $  105000000   442000000  \n",
            "...               ...     ...        ...         ...  \n",
            "111433            All       $          0   165000000  \n",
            "111434            All       $          0   165000000  \n",
            "111435            All       $    2000000   166000000  \n",
            "111436            All       $    1000000   167000000  \n",
            "111437            All       $    1000000   168000000  \n",
            "\n",
            "[111438 rows x 10 columns]\n"
          ]
        },
        {
          "output_type": "execute_result",
          "data": {
            "text/plain": [
              "[<matplotlib.lines.Line2D at 0x7f76a1ca1c50>]"
            ]
          },
          "metadata": {},
          "execution_count": 6
        },
        {
          "output_type": "display_data",
          "data": {
            "text/plain": [
              "<Figure size 432x288 with 1 Axes>"
            ],
            "image/png": "[encoded data removed]"
          },
          "metadata": {
            "needs_background": "light"
          }
        }
      ]
    },
    {
      "cell_type": "code",
      "source": [
        "import pandas as pd\n",
        "import matplotlib.pyplot as pt\n",
        "d=pd.read_csv('/content/effects-of-covid-19-on-trade-at-15-december-2021-provisional.csv')\n",
        "print(d)\n",
        "x=d['Date']\n",
        "y=d['Value']\n",
        "pt.plot(x,y)"
      ],
      "metadata": {
        "id": "3BDimgBqB0E9",
        "colab": {
          "base_uri": "https://localhost:8080/",
          "height": 762
        },
        "outputId": "b6b85a67-740a-4a74-89e9-7186b6e76951"
      },
      "execution_count": null,
      "outputs": [
        {
          "output_type": "stream",
          "name": "stdout",
          "text": [
            "      Direction  Year        Date    Weekday Country Commodity Transport_Mode  \\\n",
            "0       Exports  2015  01/01/2015   Thursday     All       All            All   \n",
            "1       Exports  2015  02/01/2015     Friday     All       All            All   \n",
            "2       Exports  2015  03/01/2015   Saturday     All       All            All   \n",
            "3       Exports  2015  04/01/2015     Sunday     All       All            All   \n",
            "4       Exports  2015  05/01/2015     Monday     All       All            All   \n",
            "...         ...   ...         ...        ...     ...       ...            ...   \n",
            "61683   Imports  2018  09/07/2018     Monday     All       All            Sea   \n",
            "61684   Imports  2018  10/07/2018    Tuesday     All       All            Sea   \n",
            "61685   Imports  2018  11/07/2018  Wednesday     All       All            Sea   \n",
            "61686   Imports  2018  12/07/2018   Thursday     All       All            Sea   \n",
            "61687   Imports  2018  13/07/2018     Friday     All       NaN            NaN   \n",
            "\n",
            "      Measure        Value    Cumulative  \n",
            "0           $  104000000.0  1.040000e+08  \n",
            "1           $   96000000.0  2.000000e+08  \n",
            "2           $   61000000.0  2.620000e+08  \n",
            "3           $   74000000.0  3.360000e+08  \n",
            "4           $  105000000.0  4.420000e+08  \n",
            "...       ...          ...           ...  \n",
            "61683       $  165000000.0  2.438000e+10  \n",
            "61684       $  195000000.0  2.457400e+10  \n",
            "61685       $  162000000.0  2.473600e+10  \n",
            "61686       $  156000000.0  2.489200e+10  \n",
            "61687     NaN          NaN           NaN  \n",
            "\n",
            "[61688 rows x 10 columns]\n"
          ]
        },
        {
          "output_type": "execute_result",
          "data": {
            "text/plain": [
              "[<matplotlib.lines.Line2D at 0x7f108fb80810>]"
            ]
          },
          "metadata": {},
          "execution_count": 3
        },
        {
          "output_type": "display_data",
          "data": {
            "text/plain": [
              "<Figure size 432x288 with 1 Axes>"
            ],
            "image/png": "[encoded data removed]"
          },
          "metadata": {
            "needs_background": "light"
          }
        }
      ]
    },
    {
      "cell_type": "code",
      "source": [
        "import pandas as pd\n",
        "import matplotlib.pyplot as pt\n",
        "d=pd.read_csv('/content/effects-of-covid-19-on-trade-at-15-december-2021-provisional.csv')\n",
        "print(d)\n",
        "x=d['Value']\n",
        "y=d['Cumulative']\n",
        "pt.plot(x,y)"
      ],
      "metadata": {
        "id": "7cBugQBQB0Ie",
        "colab": {
          "base_uri": "https://localhost:8080/",
          "height": 775
        },
        "outputId": "2a03dbdf-d88b-480c-9488-83779de8e203"
      },
      "execution_count": null,
      "outputs": [
        {
          "output_type": "stream",
          "name": "stdout",
          "text": [
            "      Direction  Year        Date    Weekday Country              Commodity  \\\n",
            "0       Exports  2015  01/01/2015   Thursday     All                    All   \n",
            "1       Exports  2015  02/01/2015     Friday     All                    All   \n",
            "2       Exports  2015  03/01/2015   Saturday     All                    All   \n",
            "3       Exports  2015  04/01/2015     Sunday     All                    All   \n",
            "4       Exports  2015  05/01/2015     Monday     All                    All   \n",
            "...         ...   ...         ...        ...     ...                    ...   \n",
            "24715   Exports  2016  23/11/2016  Wednesday     All  Meat and edible offal   \n",
            "24716   Exports  2016  24/11/2016   Thursday     All  Meat and edible offal   \n",
            "24717   Exports  2016  25/11/2016     Friday     All  Meat and edible offal   \n",
            "24718   Exports  2016  26/11/2016   Saturday     All  Meat and edible offal   \n",
            "24719   Exports  2016  27/11/2016     Sunday     All  Meat and edible offal   \n",
            "\n",
            "      Transport_Mode Measure      Value  Cumulative  \n",
            "0                All       $  104000000   104000000  \n",
            "1                All       $   96000000   200000000  \n",
            "2                All       $   61000000   262000000  \n",
            "3                All       $   74000000   336000000  \n",
            "4                All       $  105000000   442000000  \n",
            "...              ...     ...        ...         ...  \n",
            "24715            All  Tonnes       1000      817000  \n",
            "24716            All  Tonnes       2000      819000  \n",
            "24717            All  Tonnes       2000      822000  \n",
            "24718            All  Tonnes       2000      824000  \n",
            "24719            All  Tonnes       3000      827000  \n",
            "\n",
            "[24720 rows x 10 columns]\n"
          ]
        },
        {
          "output_type": "execute_result",
          "data": {
            "text/plain": [
              "[<matplotlib.lines.Line2D at 0x7f2e155fb510>]"
            ]
          },
          "metadata": {},
          "execution_count": 28
        },
        {
          "output_type": "display_data",
          "data": {
            "text/plain": [
              "<Figure size 432x288 with 1 Axes>"
            ],
            "image/png": "[encoded data removed]"
          },
          "metadata": {
            "needs_background": "light"
          }
        }
      ]
    }
  ]
}